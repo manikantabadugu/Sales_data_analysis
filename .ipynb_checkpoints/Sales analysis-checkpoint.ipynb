{
 "cells": [
  {
   "cell_type": "code",
   "execution_count": null,
   "id": "bfaf85ec",
   "metadata": {},
   "outputs": [],
   "source": [
    "\n",
    "import matplotlib.pyplot as plt\n",
    "import pandas as pd\n",
    "import os\n",
    "import mplcursors"
   ]
  },
  {
   "cell_type": "code",
   "execution_count": null,
   "id": "963d8510",
   "metadata": {},
   "outputs": [],
   "source": [
    "#merging all the monthly sales data into a single file\n",
    "\n",
    "files = [file for file in os.listdir('C:/Users/User/Documents/Sales_Data')]\n",
    "all_months_data=pd.DataFrame()\n",
    "\n",
    "for file in files:\n",
    "    df= pd.read_csv(\"./Sales_Data/\"+file)\n",
    "    all_months_data = pd.concat([all_months_data,df])\n",
    "\n",
    "all_months_data.head()\n",
    "                       \n",
    "                   \n",
    "                         \n"
   ]
  },
  {
   "cell_type": "markdown",
   "id": "47da88d9",
   "metadata": {},
   "source": [
    "Cleaning data, to deal with missing values."
   ]
  },
  {
   "cell_type": "code",
   "execution_count": null,
   "id": "7a6aa1a1",
   "metadata": {},
   "outputs": [],
   "source": [
    "all_data = all_months_data.dropna(how= 'all')\n",
    "all_data.head()"
   ]
  },
  {
   "cell_type": "markdown",
   "id": "d470f239",
   "metadata": {},
   "source": [
    "we have the data of few months in the form of string values(Order Date)."
   ]
  },
  {
   "cell_type": "code",
   "execution_count": null,
   "id": "fdb95d42",
   "metadata": {},
   "outputs": [],
   "source": [
    "all_data = all_data[all_data['Order Date'].str[0:2] != 'Or']\n",
    "all_data.head()"
   ]
  },
  {
   "cell_type": "markdown",
   "id": "ba36a7b8",
   "metadata": {},
   "source": [
    "Some of the numerical data is in the 'string' format, so here we gonna convert them to 'int' format using pandas"
   ]
  },
  {
   "cell_type": "code",
   "execution_count": null,
   "id": "207efe6a",
   "metadata": {},
   "outputs": [],
   "source": [
    "all_data['Quantity Ordered'] = pd.to_numeric(all_data['Quantity Ordered'])\n",
    "all_data['Price Each'] = pd.to_numeric(all_data['Price Each'])\n",
    "all_data.head()"
   ]
  },
  {
   "cell_type": "markdown",
   "id": "9332448d",
   "metadata": {},
   "source": [
    "Adding an extra column of month, so that data seggregation is easy."
   ]
  },
  {
   "cell_type": "code",
   "execution_count": null,
   "id": "f7ee2544",
   "metadata": {},
   "outputs": [],
   "source": [
    "all_data['Month'] = all_data['Order Date'].str[0:2].astype('int32')\n",
    "all_data.head()"
   ]
  },
  {
   "cell_type": "markdown",
   "id": "9e1a288c",
   "metadata": {},
   "source": [
    "Task 1:Determining the month which has the best sales."
   ]
  },
  {
   "cell_type": "markdown",
   "id": "dfb36172",
   "metadata": {},
   "source": [
    "Adding an extra row with 'Total Sales' "
   ]
  },
  {
   "cell_type": "code",
   "execution_count": null,
   "id": "fbb85c19",
   "metadata": {},
   "outputs": [],
   "source": [
    "all_data['Total sales'] = all_data['Quantity Ordered']*all_data['Price Each']\n",
    "best_sales = all_data.groupby('Month').sum()\n",
    "best_sales.head()"
   ]
  },
  {
   "cell_type": "markdown",
   "id": "97412e33",
   "metadata": {},
   "source": [
    "Visualisation using Bar chart"
   ]
  },
  {
   "cell_type": "code",
   "execution_count": null,
   "id": "41f86036",
   "metadata": {},
   "outputs": [],
   "source": [
    "\n",
    "months = range(1,13)\n",
    "month_names = []\n",
    "month_names = ['Dummy', 'January', 'February', 'March', 'April','May', 'June', 'July', 'August', 'September', 'October', 'November', 'December']\n",
    "highest_sale = int(best_sales['Total sales'].max())\n",
    "sales = range(1000000,round(highest_sale)+ 1000000 , 1000000)\n",
    "\n",
    "fig, ax = plt.subplots()\n",
    "plt.bar(months, best_sales['Total sales'])\n",
    "ax.get_yaxis().set_major_formatter(\n",
    "    matplotlib.ticker.FuncFormatter(lambda x, p: format(int(x), ',')))\n",
    "plt.xticks(months)\n",
    "plt.ylabel('Sales in millions($)')\n",
    "plt.xlabel('Months')\n",
    "plt.title('Sales report of the year')\n"
   ]
  },
  {
   "cell_type": "markdown",
   "id": "6b55bf39",
   "metadata": {},
   "source": [
    "Task 2:To determine the city with best sales , we are creating a new column of cities"
   ]
  },
  {
   "cell_type": "code",
   "execution_count": null,
   "id": "69269b6e",
   "metadata": {},
   "outputs": [],
   "source": [
    "all_data['City'] = all_data['Purchase Address'].apply(lambda x : x.split(',')[1] + (',') + x.split(',')[2].split(' ')[1])\n",
    "all_data.head()"
   ]
  },
  {
   "cell_type": "code",
   "execution_count": null,
   "id": "215c3c3c",
   "metadata": {},
   "outputs": [],
   "source": [
    "best_sales_city = all_data.groupby('City').sum()\n",
    "best_sales_city.head()"
   ]
  },
  {
   "cell_type": "code",
   "execution_count": null,
   "id": "ffde0777",
   "metadata": {},
   "outputs": [],
   "source": [
    "fig, ax = plt.subplots()\n",
    "cities = [city for city, df in all_data.groupby('City')]\n",
    "plt.bar(cities, best_sales_city['Total sales'])\n",
    "plt.xticks(cities,rotation=90, size = 5)\n",
    "ax.get_yaxis().set_major_formatter(\n",
    "    matplotlib.ticker.FuncFormatter(lambda x, p: format(int(x), ',')))\n",
    "plt.ylabel('Sales in millions($)')\n",
    "plt.xlabel('Cities')\n",
    "plt.title('Sales report of the year')"
   ]
  },
  {
   "cell_type": "markdown",
   "id": "b05c0f8c",
   "metadata": {},
   "source": [
    "Task 3:What time should the advertisements be displayed to increase the likelihood of the customer buying the product"
   ]
  },
  {
   "cell_type": "code",
   "execution_count": null,
   "id": "f505ee28",
   "metadata": {},
   "outputs": [],
   "source": [
    "\n",
    "all_data['Order Date'] = pd.to_datetime(all_data['Order Date'])\n",
    "all_data.head()"
   ]
  },
  {
   "cell_type": "code",
   "execution_count": null,
   "id": "bcdfcf9e",
   "metadata": {},
   "outputs": [],
   "source": [
    "all_data['Order Date'] = pd.to_datetime(all_data['Order Date'])\n",
    "all_data['Hour'] = all_data['Order Date'].dt.hour\n",
    "all_data['Minute'] = all_data['Order Date'].dt.minute\n",
    "all_data.head()"
   ]
  },
  {
   "cell_type": "code",
   "execution_count": null,
   "id": "216282ba",
   "metadata": {},
   "outputs": [],
   "source": [
    "hours=[hour for hour,df in all_data.groupby('Hour')]\n",
    "plt.plot(hours,all_data.groupby(['Hour']).count())\n",
    "plt.xticks(hours)\n",
    "plt.xlabel('Hour')\n",
    "plt.ylabel('Number of products ordered')\n",
    "plt.grid()\n",
    "plt.show()"
   ]
  },
  {
   "cell_type": "markdown",
   "id": "ad73eae9",
   "metadata": {},
   "source": [
    "From the results, it is pretty clear that most products were sold between 11:00 and 19:00, so this is the best time to display advertisements."
   ]
  },
  {
   "cell_type": "markdown",
   "id": "abccbf5a",
   "metadata": {},
   "source": [
    "Task 4: What products are often sold together?"
   ]
  },
  {
   "cell_type": "code",
   "execution_count": null,
   "id": "eb7bc036",
   "metadata": {},
   "outputs": [],
   "source": [
    "df= all_data[all_data['Order ID'].duplicated(keep=False)]\n",
    "df['Grouped']= df.groupby('Order ID')['Product'].transform(lambda x:','.join(x))\n",
    "df=df[['Order ID','Grouped']].drop_duplicates()\n",
    "df.head(10)"
   ]
  },
  {
   "cell_type": "markdown",
   "id": "a16146d5",
   "metadata": {},
   "source": [
    "# Reference : https://stackoverflow.com/questions/52195887/counting-unique-pairs-of-numbers-into-a-python-dictionary"
   ]
  },
  {
   "cell_type": "code",
   "execution_count": null,
   "id": "c83ae61c",
   "metadata": {},
   "outputs": [],
   "source": [
    "\n",
    "from itertools import combinations\n",
    "from collections import Counter\n",
    "\n",
    "count=Counter()\n",
    "for row in df['Grouped']:\n",
    "    row_list=row.split(',')\n",
    "    count.update(Counter(combinations(row_list,2)))\n",
    "count.most_common(10)"
   ]
  },
  {
   "cell_type": "markdown",
   "id": "2ebc2cae",
   "metadata": {},
   "source": [
    "Information about the two products that were frequently purchased jointly can be found above. This data can be utilized to make better product recommendations and offer better bargains to persuade customers to purchase additional items."
   ]
  },
  {
   "cell_type": "code",
   "execution_count": null,
   "id": "481d1382",
   "metadata": {},
   "outputs": [],
   "source": [
    "count=Counter()\n",
    "for row in df['Grouped']:\n",
    "    row_list=row.split(',')\n",
    "    count.update(Counter(combinations(row_list,3)))\n",
    "count.most_common(10)"
   ]
  },
  {
   "cell_type": "markdown",
   "id": "442b012f",
   "metadata": {},
   "source": [
    "Information about the three products that were frequently purchased jointly can be found above. This data can be utilized to make better product recommendations and offer better bargains to persuade customers to purchase additional items."
   ]
  },
  {
   "cell_type": "markdown",
   "id": "4603f630",
   "metadata": {},
   "source": [
    "Task 5: Most ordered items and the probable reasons for their high sales."
   ]
  },
  {
   "cell_type": "code",
   "execution_count": null,
   "id": "bc811638",
   "metadata": {},
   "outputs": [],
   "source": [
    "items = all_data.groupby('Product')\n",
    "quantity_of_ordered_items = items.sum()['Quantity Ordered']\n",
    "items_list = [item for item, df in items]\n",
    "\n",
    "plt.bar(items_list, quantity_of_ordered_items)\n",
    "plt.xticks(items_list,rotation=90)\n",
    "plt.ylabel('Order qunatity')\n",
    "plt.xlabel('Items')\n",
    "plt.show()"
   ]
  },
  {
   "cell_type": "code",
   "execution_count": null,
   "id": "dab0bd6c",
   "metadata": {},
   "outputs": [],
   "source": [
    "prices = all_data.groupby('Product').mean()['Price Each']\n",
    "print(prices)\n",
    "fig,ax1=plt.subplots()\n",
    "ax2=ax1.twinx()\n",
    "ax1.bar(items_list,quantity_of_ordered_items)\n",
    "ax2.plot(items_list,prices,'b-')\n",
    "ax1.set_xlabel('Name of the Item')\n",
    "ax2.set_ylabel('Price of the Item in dollars($)',color=\"blue\",marker=\"o\" )\n",
    "ax1.set_ylabel('Quantity ordered')\n",
    "ax1.set_xticklabels(items_list,rotation=90)\n",
    "plt.show()"
   ]
  },
  {
   "cell_type": "markdown",
   "id": "18389c26",
   "metadata": {},
   "source": [
    "The above data shows a clear correlation between the price of the item and the number of items sold. In 90% of the cases, items with the lowest cost have high sales."
   ]
  }
 ],
 "metadata": {
  "kernelspec": {
   "display_name": "Python 3",
   "language": "python",
   "name": "python3"
  },
  "language_info": {
   "codemirror_mode": {
    "name": "ipython",
    "version": 3
   },
   "file_extension": ".py",
   "mimetype": "text/x-python",
   "name": "python",
   "nbconvert_exporter": "python",
   "pygments_lexer": "ipython3",
   "version": "3.8.8"
  }
 },
 "nbformat": 4,
 "nbformat_minor": 5
}
